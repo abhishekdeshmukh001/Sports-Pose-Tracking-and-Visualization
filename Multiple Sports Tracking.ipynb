{
 "cells": [
  {
   "cell_type": "code",
   "execution_count": 1,
   "id": "d04172c6",
   "metadata": {},
   "outputs": [],
   "source": [
    "import mediapipe as mp\n",
    "import cv2"
   ]
  },
  {
   "cell_type": "markdown",
   "id": "ac9a9de2",
   "metadata": {},
   "source": [
    "### Load Mediapipe Pose model"
   ]
  },
  {
   "cell_type": "code",
   "execution_count": 2,
   "id": "ff33bdec",
   "metadata": {},
   "outputs": [],
   "source": [
    "mp_pose = mp.solutions.pose\n",
    "pose = mp_pose.Pose(static_image_mode=False,\n",
    "                   min_detection_confidence=0.7,\n",
    "                   min_tracking_confidence=0.7)"
   ]
  },
  {
   "cell_type": "markdown",
   "id": "27e970fb",
   "metadata": {},
   "source": [
    "### Load the video"
   ]
  },
  {
   "cell_type": "code",
   "execution_count": 3,
   "id": "4a2f6e98",
   "metadata": {},
   "outputs": [],
   "source": [
    "cap = cv2.VideoCapture(r'D:\\7.30 PM DATA SCIENCE AND AI\\TF, KERAS, OPENCV CODES\\sample_videos\\Cricket_2.mp4')\n",
    "# cap = cv2.VideoCapture(r'D:\\7.30 PM DATA SCIENCE AND AI\\TF, KERAS, OPENCV CODES\\sample_videos\\Baseball_2.mp4')\n",
    "# cap = cv2.VideoCapture(r'D:\\7.30 PM DATA SCIENCE AND AI\\TF, KERAS, OPENCV CODES\\sample_videos\\Football_2.mp4')\n",
    "# cap = cv2.VideoCapture(r'D:\\7.30 PM DATA SCIENCE AND AI\\TF, KERAS, OPENCV CODES\\sample_videos\\Football.mp4')"
   ]
  },
  {
   "cell_type": "markdown",
   "id": "1f7a484e",
   "metadata": {},
   "source": [
    "### Create VideoWriter object to save the ouptut video"
   ]
  },
  {
   "cell_type": "code",
   "execution_count": 4,
   "id": "95c9fdea",
   "metadata": {},
   "outputs": [],
   "source": [
    "output_path = r'D:\\7.30 PM DATA SCIENCE AND AI\\TF, KERAS, OPENCV CODES\\Sports Tracking'\n",
    "\n",
    "fps = cap.get(cv2.CAP_PROP_FPS)\n",
    "width = int(cap.get(cv2.CAP_PROP_FRAME_WIDTH))\n",
    "height = int(cap.get(cv2.CAP_PROP_FRAME_HEIGHT))\n",
    "fourcc = cv2.VideoWriter_fourcc(*'mp4v')\n",
    "#  codec to be used for the video\n",
    "# 'mp4v' is the FourCC code for the MPEG-4 Video codec\n",
    "\n",
    "out = cv2.VideoWriter(output_path, fourcc, fps, (width, height))"
   ]
  },
  {
   "cell_type": "code",
   "execution_count": 5,
   "id": "53b48b65",
   "metadata": {},
   "outputs": [],
   "source": [
    "desired_width = 530\n",
    "desired_height = 640\n",
    "\n",
    "'''\n",
    "# For Football Videos\n",
    "desired_width = 700\n",
    "desired_height = 500\n",
    "'''\n",
    "\n",
    "screen_width = 1366\n",
    "screen_height = 690\n",
    "x_position = int((screen_width - desired_width) / 2)\n",
    "y_position = int((screen_height - desired_height) / 2)\n",
    "\n",
    "while cap.isOpened():\n",
    "    ret, frame = cap.read()\n",
    "    frame = cv2.resize(frame, (desired_width, desired_height))\n",
    "    if not ret:\n",
    "        break\n",
    "    \n",
    "    # Convert the Image to RGB\n",
    "    image_RGB = cv2.cvtColor(frame, cv2.COLOR_BGR2RGB)\n",
    "    \n",
    "    # Process the frame with Mediapip-Pose\n",
    "    results = pose.process(image_RGB)\n",
    "    \n",
    "    if results.pose_landmarks:\n",
    "        # Render those landmarks on the frame\n",
    "        mp_draw = mp.solutions.drawing_utils\n",
    "        mp_draw.draw_landmarks(frame, results.pose_landmarks, mp_pose.POSE_CONNECTIONS,\n",
    "                              mp_draw.DrawingSpec(color=(0,255,0), thickness=2, circle_radius=2),\n",
    "                              mp_draw.DrawingSpec(color=(0,0,255), thickness=2, circle_radius=2))\n",
    "        \n",
    "        # Write the frame with landmarks to the output video\n",
    "        out.write(frame)\n",
    "        \n",
    "        # Displaying the resulting frame\n",
    "        cv2.imshow('Frame', frame)\n",
    "        cv2.moveWindow('Frame', x_position, y_position)\n",
    "        \n",
    "        if cv2.waitKey(1)==13:\n",
    "            break\n",
    "\n",
    "cap.release()\n",
    "cv2.destroyAllWindows()"
   ]
  },
  {
   "cell_type": "code",
   "execution_count": null,
   "id": "aaa49362",
   "metadata": {},
   "outputs": [],
   "source": []
  }
 ],
 "metadata": {
  "kernelspec": {
   "display_name": "Python 3 (ipykernel)",
   "language": "python",
   "name": "python3"
  },
  "language_info": {
   "codemirror_mode": {
    "name": "ipython",
    "version": 3
   },
   "file_extension": ".py",
   "mimetype": "text/x-python",
   "name": "python",
   "nbconvert_exporter": "python",
   "pygments_lexer": "ipython3",
   "version": "3.11.5"
  }
 },
 "nbformat": 4,
 "nbformat_minor": 5
}
